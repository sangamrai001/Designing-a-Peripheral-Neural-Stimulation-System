{
 "cells": [
  {
   "cell_type": "code",
   "execution_count": 1,
   "metadata": {},
   "outputs": [],
   "source": [
    "import numpy as np"
   ]
  },
  {
   "cell_type": "code",
   "execution_count": 2,
   "metadata": {},
   "outputs": [],
   "source": [
    "# This code will generate the Electric Feild Vector\n",
    "def dEdx_calulate(x,y,center):\n",
    "    position = np.array([x,y,0]) # point in XY plane where Field is calculated\n",
    "    Radius = 2.5e-3 # Radius of coil in meters\n",
    "    I = 55951005682.587456 # maximum change in current\n",
    "    THETA = np.linspace(0,2*np.pi,500) # array of angles\n",
    "    Ex_total = 0\n",
    "    for theta in THETA:\n",
    "        r_dash = center + np.array([Radius*np.cos(theta),Radius*np.sin(theta),0])  #  position of a small segment of the coil\n",
    "        temp2 = position - r_dash # vector joining point in XY plane and segment of the coil\n",
    "        magnit = np.sqrt(np.sum(temp2**2)) # magnitude of the vector joining point in XY plane and segment of the coil\n",
    "        dlx = -Radius*np.sin(theta)*(center[0]+Radius*np.cos(theta)-x) # derivative of x component of vector oriented along the direction of the coil segment. \n",
    "        Ex = dlx/(magnit**3)\n",
    "        Ex_total = Ex_total + Ex\n",
    "    Ex_total = (-I*(10**-7))*Ex_total*(10**-3) # multiply by current and permiability\n",
    "    return Ex_total"
   ]
  },
  {
   "cell_type": "code",
   "execution_count": 3,
   "metadata": {},
   "outputs": [],
   "source": [
    "# This function generate electric feild at nodes of ranvier when the x coordinate of center of coil is changing\n",
    "def Ex_axis_calX(center):\n",
    "    X = np.linspace(-37.8e-3, 37.8e-3, 55)\n",
    "    dEdx = []\n",
    "    for x in X:\n",
    "        temp1 =  dEdx_calulate(x,0,center)\n",
    "        dEdx.append(temp1)\n",
    "    Ex = np.array(dEdx)\n",
    "    result = \"./Aditya_Divyat/dEdx_X/\" + \"_\".join([f\"x{center[0]}\", f\"y{center[1]}\", f\"z{center[2]}\"]) + \".txt\"\n",
    "    np.savetxt(result, Ex, fmt='%e')\n",
    "    \n",
    "# This function generate electric feild at nodes of ranvier when the y coordinate of center of coil is changing    \n",
    "def Ex_axis_calY(center):\n",
    "    X = np.linspace(-37.8e-3, 37.8e-3, 55)\n",
    "    dEdx = []\n",
    "    for x in X:\n",
    "        temp1 =  dEdx_calulate(x,0,center)\n",
    "        dEdx.append(temp1)\n",
    "    Ex = np.array(dEdx)\n",
    "    result = \"./Aditya_Divyat/dEdx_Y/\" + \"_\".join([f\"x{center[0]}\", f\"y{center[1]}\", f\"z{center[2]}\"]) + \".txt\"\n",
    "    np.savetxt(result, Ex, fmt='%e')\n",
    "    \n",
    "# This function generate electric feild at nodes of ranvier when the z coordinate of center of coil is changing\n",
    "def Ex_axis_calZ(center):\n",
    "    X = np.linspace(-37.8e-3, 37.8e-3, 55)\n",
    "    dEdx = []\n",
    "    for x in X:\n",
    "        temp1 =  dEdx_calulate(x,0,center)\n",
    "        dEdx.append(temp1)\n",
    "    Ex = np.array(dEdx)\n",
    "    result = \"./Aditya_Divyat/dEdx_Z/\" + \"_\".join([f\"x{center[0]}\", f\"y{center[1]}\", f\"z{center[2]}\"]) + \".txt\"\n",
    "    np.savetxt(result, Ex, fmt='%e')"
   ]
  },
  {
   "cell_type": "code",
   "execution_count": 4,
   "metadata": {},
   "outputs": [],
   "source": [
    "X = np.arange(-40e-3,44e-3,4e-3)\n",
    "Y = np.arange(-10e-3,11e-3,1e-3)\n",
    "Z = np.arange(0.5e-3,5.5e-3,0.5e-3)\n",
    "X = np.round(X,5)\n",
    "Y = np.round(Y,5)\n",
    "Z = np.round(Z,5)\n",
    "for x in X:\n",
    "    center = np.array([x,4e-3,0.5e-3])\n",
    "    Ex_axis_calX(center)\n",
    "for y in Y:\n",
    "    center = np.array([0.0,y,0.5e-3])\n",
    "    Ex_axis_calY(center)\n",
    "for z in Z:\n",
    "    center = np.array([0.0,4e-3,z])\n",
    "    Ex_axis_calZ(center)"
   ]
  },
  {
   "cell_type": "code",
   "execution_count": null,
   "metadata": {},
   "outputs": [],
   "source": []
  }
 ],
 "metadata": {
  "colab": {
   "provenance": []
  },
  "kernelspec": {
   "display_name": "Python 3 (ipykernel)",
   "language": "python",
   "name": "python3"
  },
  "language_info": {
   "codemirror_mode": {
    "name": "ipython",
    "version": 3
   },
   "file_extension": ".py",
   "mimetype": "text/x-python",
   "name": "python",
   "nbconvert_exporter": "python",
   "pygments_lexer": "ipython3",
   "version": "3.8.2"
  }
 },
 "nbformat": 4,
 "nbformat_minor": 4
}
